{
  "nbformat": 4,
  "nbformat_minor": 0,
  "metadata": {
    "colab": {
      "provenance": []
    },
    "kernelspec": {
      "name": "python3",
      "display_name": "Python 3"
    },
    "language_info": {
      "name": "python"
    }
  },
  "cells": [
    {
      "cell_type": "markdown",
      "source": [
        "## Importing the libraries"
      ],
      "metadata": {
        "id": "hbQkoWahqRVb"
      }
    },
    {
      "cell_type": "code",
      "execution_count": 1,
      "metadata": {
        "id": "Te4NqrKJoq0k"
      },
      "outputs": [],
      "source": [
        "import numpy as np\n",
        "import scipy.stats as stats\n"
      ]
    },
    {
      "cell_type": "markdown",
      "source": [
        "## Q1. Suppose an automobile battery manufacturer claims that the mean lifetime of their battery is 60 months with a standard deviation of 6 months. Suppose the distribution of battery life is approximately normal.\n",
        "\n",
        "## Find the probability that the mean lifetime of 40 randomly sampled batteries will be less than 58 months."
      ],
      "metadata": {
        "id": "bz-XVrQGo36z"
      }
    },
    {
      "cell_type": "code",
      "source": [
        "mean_lifetime = 60\n",
        "std_dev = 6\n",
        "n = 40\n",
        "sample_mean = 58\n",
        "se = std_dev / np.sqrt(n)\n",
        "z = (sample_mean - mean_lifetime) / se\n",
        "probability = stats.norm.cdf(z)\n",
        "print(f\"Q1: The probability that the mean lifetime of 40 randomly sampled batteries is less than 58 months is approximately {probability:.4f}\")\n",
        "print(\"\\n\")"
      ],
      "metadata": {
        "colab": {
          "base_uri": "https://localhost:8080/"
        },
        "id": "M7DcpMUZo2Vg",
        "outputId": "7a3de296-98d3-4873-e9c3-d5d2b36fe850"
      },
      "execution_count": 2,
      "outputs": [
        {
          "output_type": "stream",
          "name": "stdout",
          "text": [
            "Q1: The probability that the mean lifetime of 40 randomly sampled batteries is less than 58 months is approximately 0.0175\n",
            "\n",
            "\n"
          ]
        }
      ]
    },
    {
      "cell_type": "markdown",
      "source": [
        "## Q2. A random sample of 40 households was selected, and the number of kilowatt-hours (kWh) was recorded.\n",
        "\n",
        "## The average usage was 310 kWh with a standard deviation of 89 kWh. Provide an expression for calculating a 95% condence interval for the mean usage in the rst\n",
        "quarter of 2019.\n"
      ],
      "metadata": {
        "id": "MqT16RVnpK7R"
      }
    },
    {
      "cell_type": "code",
      "source": [
        "n = 40\n",
        "mean_usage = 310\n",
        "std_dev_usage = 89\n",
        "confidence_level = 0.95\n",
        "se_usage = std_dev_usage / np.sqrt(n)\n",
        "z_critical = stats.norm.ppf(1 - (1 - confidence_level) / 2)\n",
        "margin_of_error = z_critical * se_usage\n",
        "confidence_interval = (mean_usage - margin_of_error, mean_usage + margin_of_error)\n",
        "print(f\"Q2: The 95% confidence interval for the mean usage is: {confidence_interval}\")\n",
        "print(\"\\n\")\n"
      ],
      "metadata": {
        "colab": {
          "base_uri": "https://localhost:8080/"
        },
        "id": "o5jM9OEApIui",
        "outputId": "d7607d6b-45ad-4713-e13f-6c8e855e5104"
      },
      "execution_count": 3,
      "outputs": [
        {
          "output_type": "stream",
          "name": "stdout",
          "text": [
            "Q2: The 95% confidence interval for the mean usage is: (282.419121062447, 337.580878937553)\n",
            "\n",
            "\n"
          ]
        }
      ]
    },
    {
      "cell_type": "markdown",
      "source": [
        "## Q3. A manager of a Chinese restaurant wants to determine whether the mean waiting time to place an order has changed in the past month from its previous population mean value of 4.5 minutes.\n",
        "\n",
        "### Null hypothesis (H0): The mean waiting time is 4.5 minutes.\n",
        "### Alternative hypothesis (H1): The mean waiting time is different from 4.5 minutes (two-tailed test).\n"
      ],
      "metadata": {
        "id": "lAv7PkvBpXNm"
      }
    },
    {
      "cell_type": "code",
      "source": [
        "population_mean = 4.5\n",
        "sample_mean = 5.0\n",
        "std_dev_waiting_time = 1.2\n",
        "n = 50\n",
        "alpha = 0.05\n",
        "se_waiting_time = std_dev_waiting_time / np.sqrt(n)\n",
        "z_stat_waiting_time = (sample_mean - population_mean) / se_waiting_time\n",
        "p_value_waiting_time = 2 * (1 - stats.norm.cdf(abs(z_stat_waiting_time)))\n",
        "print(f\"Q3: The z-statistic is {z_stat_waiting_time:.4f}, and the p-value is {p_value_waiting_time:.4f}\")\n",
        "if p_value_waiting_time < alpha:\n",
        "    print(\"Conclusion: Reject the null hypothesis. The mean waiting time has changed.\")\n",
        "else:\n",
        "    print(\"Conclusion: Fail to reject the null hypothesis. There is no sufficient evidence to conclude a significant change in the mean waiting time.\")\n",
        "print(\"\\n\")"
      ],
      "metadata": {
        "colab": {
          "base_uri": "https://localhost:8080/"
        },
        "id": "qZ7zZXJmpUmf",
        "outputId": "6e25cea7-9fa0-47f9-b824-bf80590b68ee"
      },
      "execution_count": 4,
      "outputs": [
        {
          "output_type": "stream",
          "name": "stdout",
          "text": [
            "Q3: The z-statistic is 2.9463, and the p-value is 0.0032\n",
            "Conclusion: Reject the null hypothesis. The mean waiting time has changed.\n",
            "\n",
            "\n"
          ]
        }
      ]
    },
    {
      "cell_type": "markdown",
      "source": [
        "## Q4. What is the p-value in a two-tailed z-test for one sample, where the computed test statistic (z-stat) is equal to +2.00?"
      ],
      "metadata": {
        "id": "T4ZuyDGtprb9"
      }
    },
    {
      "cell_type": "code",
      "source": [
        "z_stat = 2.00\n",
        "p_value_q4 = 2 * (1 - stats.norm.cdf(abs(z_stat)))\n",
        "print(f\"Q4: The p-value for a two-tailed z-test with z-stat of +2.00 is: {p_value_q4:.4f}\")\n",
        "print(\"\\n\")"
      ],
      "metadata": {
        "colab": {
          "base_uri": "https://localhost:8080/"
        },
        "id": "XGfhQ29GppZM",
        "outputId": "ba0479d2-80d2-4492-e6e8-babf5cb88ad7"
      },
      "execution_count": 6,
      "outputs": [
        {
          "output_type": "stream",
          "name": "stdout",
          "text": [
            "Q4: The p-value for a two-tailed z-test with z-stat of +2.00 is: 0.0455\n",
            "\n",
            "\n"
          ]
        }
      ]
    },
    {
      "cell_type": "markdown",
      "source": [
        "## Q5. Samy, the product manager of K2 Jeans, wants to launch a product line into a new market area.\n",
        "\n",
        "###  A survey of a random sample of 400 households showed a mean income per household of 30000 rupees, with a standard deviation of 8000 rupees. Samy believes the product will be protable only if the mean household income is greater than 29000 rupees. Perform statistical analysis and draw a conclusion at a 5% signicance level.\n"
      ],
      "metadata": {
        "id": "fevo1KJTp8y1"
      }
    },
    {
      "cell_type": "code",
      "source": [
        "sample_size_q5 = 400\n",
        "sample_mean_q5 = 30000\n",
        "population_mean_q5 = 29000\n",
        "std_dev_q5 = 8000\n",
        "alpha = 0.05\n",
        "se_q5 = std_dev_q5 / np.sqrt(sample_size_q5)\n",
        "z_stat_q5 = (sample_mean_q5 - population_mean_q5) / se_q5\n",
        "p_value_q5 = 1 - stats.norm.cdf(z_stat_q5)\n",
        "print(f\"Q5: The z-statistic is {z_stat_q5:.4f}, and the p-value is {p_value_q5:.4f}\")\n",
        "if p_value_q5 < alpha:\n",
        "    print(\"Conclusion: Reject the null hypothesis. Samy should launch the product line into the new market area.\")\n",
        "else:\n",
        "    print(\"Conclusion: Fail to reject the null hypothesis. Samy should not launch the product line into the new market area.\")\n",
        "print(\"\\n\")"
      ],
      "metadata": {
        "colab": {
          "base_uri": "https://localhost:8080/"
        },
        "id": "83rpb7GZp2J7",
        "outputId": "22ab572d-f534-42f8-ef05-40ef39f86274"
      },
      "execution_count": 7,
      "outputs": [
        {
          "output_type": "stream",
          "name": "stdout",
          "text": [
            "Q5: The z-statistic is 2.5000, and the p-value is 0.0062\n",
            "Conclusion: Reject the null hypothesis. Samy should launch the product line into the new market area.\n",
            "\n",
            "\n"
          ]
        }
      ]
    },
    {
      "cell_type": "code",
      "source": [],
      "metadata": {
        "id": "ywYgH5B4qMMa"
      },
      "execution_count": null,
      "outputs": []
    }
  ]
}