{
  "nbformat": 4,
  "nbformat_minor": 0,
  "metadata": {
    "colab": {
      "provenance": []
    },
    "kernelspec": {
      "name": "python3",
      "display_name": "Python 3"
    },
    "language_info": {
      "name": "python"
    }
  },
  "cells": [
    {
      "cell_type": "markdown",
      "source": [
        "# AZ Tunes Case Study"
      ],
      "metadata": {
        "id": "g-Flon7GfMtW"
      }
    },
    {
      "cell_type": "markdown",
      "source": [
        "## Problem Statement"
      ],
      "metadata": {
        "id": "EmysTd1IfRZ9"
      }
    },
    {
      "cell_type": "markdown",
      "source": [
        "### Business Context\n",
        "\n",
        "AZ Tunes is a music streaming company and they analyze customer data to improve recommendations, playlists, and rollout special offers. Their persistent work to uncover and act upon evolving customer expectation has resulted in higher customer engagement time and subscription to their paid service.\n",
        "\n",
        "### Objective\n",
        "* The Marketing team of AZ Tunes wants to rollout special offers through a new campaign. As a data scientist, your objective is to help the team design the campaign by providing the below data-driven inputs:\n",
        "  * According to a study, the average weekly app engagement time of users in leading music services is around 6 hrs. Can we claim that the app engagement time of AZ tunes is better than this market standard?\n",
        "  * The team wants to spend their budget on the age group which has the highest chance of subscribing as part of their campaign\n",
        "\n",
        "You need to perform statistical analysis on a sample of customer data and provide an evidence- based conclusion to help the marketing campaign succeed."
      ],
      "metadata": {
        "id": "siW_myO_fYNu"
      }
    },
    {
      "cell_type": "markdown",
      "source": [],
      "metadata": {
        "id": "5ZvH17ktfxFG"
      }
    },
    {
      "cell_type": "markdown",
      "source": [
        "### Data Dictionary\n",
        "For this task, you are provided with a random sample of 1000 users along with their age group & engagement time on the AZ tunes app.\n",
        "* user_id: Unique user-id of the user\n",
        "* age_group: Age-group that the user belongs to\n",
        "* subscription_status: Whether the user is a subscribed user or a non-subscribed\n",
        "* user enagement_time: Weekly average of app engagement time (in hrs) of the user\n",
        "\n",
        "### Solution Approach\n",
        "\n",
        "To solve the above problem, we need to answer 2 questions:\n",
        "* Is the average app engagement time of AZ Tunes significantly greater than the market average (6 hours)?\n",
        "* Is the difference in proportions of subscribers & non-subscribers (in 3 groups - under 18, 18- 34, and over 35) significantly different to conclude that a particular group is most likely to subscribe?"
      ],
      "metadata": {
        "id": "sg1uajsafwlN"
      }
    },
    {
      "cell_type": "markdown",
      "source": [
        "# Import necessary packages and the data"
      ],
      "metadata": {
        "id": "tQYgdQl7gSI4"
      }
    },
    {
      "cell_type": "code",
      "source": [
        "# Libraries to help with reading and manipulating data\n",
        "import numpy as np\n",
        "import pandas as pd\n",
        "\n",
        "#Libraries to help with data visualization\n",
        "import seaborn as sns\n",
        "import matplotlib.pyplot as plt\n",
        "%matplotlib inline\n",
        "\n",
        "# Library to help with statistical analysis\n",
        "import scipy.stats as stats\n",
        "\n",
        "#import the scipy package and check the version to be sure that the version is above 1.6.1\n",
        "import scipy\n"
      ],
      "metadata": {
        "id": "CkKLxfDegW8Q"
      },
      "execution_count": 2,
      "outputs": []
    },
    {
      "cell_type": "markdown",
      "source": [
        "# Loading the dataset"
      ],
      "metadata": {
        "id": "v7rvrJ2phAeC"
      }
    },
    {
      "cell_type": "code",
      "source": [
        "#read the dataset\n",
        "df=pd.read_csv('/content/wrRcFZqsDqnixnU2 (1).csv')"
      ],
      "metadata": {
        "id": "_3cFPV5_ggSw"
      },
      "execution_count": 4,
      "outputs": []
    },
    {
      "cell_type": "markdown",
      "source": [
        "### Data Overview\n",
        "* The initial steps to get an overview of any dataset is to:\n",
        "\n",
        "* observe the first few rows of the dataset, to check whether the dataset has been loaded properly or not\n",
        "* get information about the number of rows and columns in the dataset\n",
        "* find out the data types of the columns to ensure that data is stored in the preferred format and the value of each property is as expected.\n",
        "* check the statistical summary of the dataset to get an overview of the numerical columns of the data"
      ],
      "metadata": {
        "id": "_R128OgshFY2"
      }
    },
    {
      "cell_type": "markdown",
      "source": [
        "## Displaying the first few rows of the dataset"
      ],
      "metadata": {
        "id": "HI63dt2ehd55"
      }
    },
    {
      "cell_type": "code",
      "source": [
        "#view the dataset\n",
        "df.head()"
      ],
      "metadata": {
        "colab": {
          "base_uri": "https://localhost:8080/",
          "height": 206
        },
        "id": "IaRV6z4UhBbV",
        "outputId": "2f97e50b-9daa-4278-9692-4cf44a30fe77"
      },
      "execution_count": 8,
      "outputs": [
        {
          "output_type": "execute_result",
          "data": {
            "text/plain": [
              "   user_id    age_group subscription_status  engagement_time\n",
              "0    14451        18-34          subscribed             5.55\n",
              "1    18386     under 18          subscribed             5.12\n",
              "2    12305  35 and over      not_subscribed             4.25\n",
              "3    17546        18-34          subscribed             8.54\n",
              "4    15399        18-34          subscribed            12.12"
            ],
            "text/html": [
              "\n",
              "  <div id=\"df-b0034793-64a2-445f-998e-7f5fa051a302\" class=\"colab-df-container\">\n",
              "    <div>\n",
              "<style scoped>\n",
              "    .dataframe tbody tr th:only-of-type {\n",
              "        vertical-align: middle;\n",
              "    }\n",
              "\n",
              "    .dataframe tbody tr th {\n",
              "        vertical-align: top;\n",
              "    }\n",
              "\n",
              "    .dataframe thead th {\n",
              "        text-align: right;\n",
              "    }\n",
              "</style>\n",
              "<table border=\"1\" class=\"dataframe\">\n",
              "  <thead>\n",
              "    <tr style=\"text-align: right;\">\n",
              "      <th></th>\n",
              "      <th>user_id</th>\n",
              "      <th>age_group</th>\n",
              "      <th>subscription_status</th>\n",
              "      <th>engagement_time</th>\n",
              "    </tr>\n",
              "  </thead>\n",
              "  <tbody>\n",
              "    <tr>\n",
              "      <th>0</th>\n",
              "      <td>14451</td>\n",
              "      <td>18-34</td>\n",
              "      <td>subscribed</td>\n",
              "      <td>5.55</td>\n",
              "    </tr>\n",
              "    <tr>\n",
              "      <th>1</th>\n",
              "      <td>18386</td>\n",
              "      <td>under 18</td>\n",
              "      <td>subscribed</td>\n",
              "      <td>5.12</td>\n",
              "    </tr>\n",
              "    <tr>\n",
              "      <th>2</th>\n",
              "      <td>12305</td>\n",
              "      <td>35 and over</td>\n",
              "      <td>not_subscribed</td>\n",
              "      <td>4.25</td>\n",
              "    </tr>\n",
              "    <tr>\n",
              "      <th>3</th>\n",
              "      <td>17546</td>\n",
              "      <td>18-34</td>\n",
              "      <td>subscribed</td>\n",
              "      <td>8.54</td>\n",
              "    </tr>\n",
              "    <tr>\n",
              "      <th>4</th>\n",
              "      <td>15399</td>\n",
              "      <td>18-34</td>\n",
              "      <td>subscribed</td>\n",
              "      <td>12.12</td>\n",
              "    </tr>\n",
              "  </tbody>\n",
              "</table>\n",
              "</div>\n",
              "    <div class=\"colab-df-buttons\">\n",
              "\n",
              "  <div class=\"colab-df-container\">\n",
              "    <button class=\"colab-df-convert\" onclick=\"convertToInteractive('df-b0034793-64a2-445f-998e-7f5fa051a302')\"\n",
              "            title=\"Convert this dataframe to an interactive table.\"\n",
              "            style=\"display:none;\">\n",
              "\n",
              "  <svg xmlns=\"http://www.w3.org/2000/svg\" height=\"24px\" viewBox=\"0 -960 960 960\">\n",
              "    <path d=\"M120-120v-720h720v720H120Zm60-500h600v-160H180v160Zm220 220h160v-160H400v160Zm0 220h160v-160H400v160ZM180-400h160v-160H180v160Zm440 0h160v-160H620v160ZM180-180h160v-160H180v160Zm440 0h160v-160H620v160Z\"/>\n",
              "  </svg>\n",
              "    </button>\n",
              "\n",
              "  <style>\n",
              "    .colab-df-container {\n",
              "      display:flex;\n",
              "      gap: 12px;\n",
              "    }\n",
              "\n",
              "    .colab-df-convert {\n",
              "      background-color: #E8F0FE;\n",
              "      border: none;\n",
              "      border-radius: 50%;\n",
              "      cursor: pointer;\n",
              "      display: none;\n",
              "      fill: #1967D2;\n",
              "      height: 32px;\n",
              "      padding: 0 0 0 0;\n",
              "      width: 32px;\n",
              "    }\n",
              "\n",
              "    .colab-df-convert:hover {\n",
              "      background-color: #E2EBFA;\n",
              "      box-shadow: 0px 1px 2px rgba(60, 64, 67, 0.3), 0px 1px 3px 1px rgba(60, 64, 67, 0.15);\n",
              "      fill: #174EA6;\n",
              "    }\n",
              "\n",
              "    .colab-df-buttons div {\n",
              "      margin-bottom: 4px;\n",
              "    }\n",
              "\n",
              "    [theme=dark] .colab-df-convert {\n",
              "      background-color: #3B4455;\n",
              "      fill: #D2E3FC;\n",
              "    }\n",
              "\n",
              "    [theme=dark] .colab-df-convert:hover {\n",
              "      background-color: #434B5C;\n",
              "      box-shadow: 0px 1px 3px 1px rgba(0, 0, 0, 0.15);\n",
              "      filter: drop-shadow(0px 1px 2px rgba(0, 0, 0, 0.3));\n",
              "      fill: #FFFFFF;\n",
              "    }\n",
              "  </style>\n",
              "\n",
              "    <script>\n",
              "      const buttonEl =\n",
              "        document.querySelector('#df-b0034793-64a2-445f-998e-7f5fa051a302 button.colab-df-convert');\n",
              "      buttonEl.style.display =\n",
              "        google.colab.kernel.accessAllowed ? 'block' : 'none';\n",
              "\n",
              "      async function convertToInteractive(key) {\n",
              "        const element = document.querySelector('#df-b0034793-64a2-445f-998e-7f5fa051a302');\n",
              "        const dataTable =\n",
              "          await google.colab.kernel.invokeFunction('convertToInteractive',\n",
              "                                                    [key], {});\n",
              "        if (!dataTable) return;\n",
              "\n",
              "        const docLinkHtml = 'Like what you see? Visit the ' +\n",
              "          '<a target=\"_blank\" href=https://colab.research.google.com/notebooks/data_table.ipynb>data table notebook</a>'\n",
              "          + ' to learn more about interactive tables.';\n",
              "        element.innerHTML = '';\n",
              "        dataTable['output_type'] = 'display_data';\n",
              "        await google.colab.output.renderOutput(dataTable, element);\n",
              "        const docLink = document.createElement('div');\n",
              "        docLink.innerHTML = docLinkHtml;\n",
              "        element.appendChild(docLink);\n",
              "      }\n",
              "    </script>\n",
              "  </div>\n",
              "\n",
              "\n",
              "<div id=\"df-fd4f430a-833d-4a42-8983-936cb1570de4\">\n",
              "  <button class=\"colab-df-quickchart\" onclick=\"quickchart('df-fd4f430a-833d-4a42-8983-936cb1570de4')\"\n",
              "            title=\"Suggest charts\"\n",
              "            style=\"display:none;\">\n",
              "\n",
              "<svg xmlns=\"http://www.w3.org/2000/svg\" height=\"24px\"viewBox=\"0 0 24 24\"\n",
              "     width=\"24px\">\n",
              "    <g>\n",
              "        <path d=\"M19 3H5c-1.1 0-2 .9-2 2v14c0 1.1.9 2 2 2h14c1.1 0 2-.9 2-2V5c0-1.1-.9-2-2-2zM9 17H7v-7h2v7zm4 0h-2V7h2v10zm4 0h-2v-4h2v4z\"/>\n",
              "    </g>\n",
              "</svg>\n",
              "  </button>\n",
              "\n",
              "<style>\n",
              "  .colab-df-quickchart {\n",
              "      --bg-color: #E8F0FE;\n",
              "      --fill-color: #1967D2;\n",
              "      --hover-bg-color: #E2EBFA;\n",
              "      --hover-fill-color: #174EA6;\n",
              "      --disabled-fill-color: #AAA;\n",
              "      --disabled-bg-color: #DDD;\n",
              "  }\n",
              "\n",
              "  [theme=dark] .colab-df-quickchart {\n",
              "      --bg-color: #3B4455;\n",
              "      --fill-color: #D2E3FC;\n",
              "      --hover-bg-color: #434B5C;\n",
              "      --hover-fill-color: #FFFFFF;\n",
              "      --disabled-bg-color: #3B4455;\n",
              "      --disabled-fill-color: #666;\n",
              "  }\n",
              "\n",
              "  .colab-df-quickchart {\n",
              "    background-color: var(--bg-color);\n",
              "    border: none;\n",
              "    border-radius: 50%;\n",
              "    cursor: pointer;\n",
              "    display: none;\n",
              "    fill: var(--fill-color);\n",
              "    height: 32px;\n",
              "    padding: 0;\n",
              "    width: 32px;\n",
              "  }\n",
              "\n",
              "  .colab-df-quickchart:hover {\n",
              "    background-color: var(--hover-bg-color);\n",
              "    box-shadow: 0 1px 2px rgba(60, 64, 67, 0.3), 0 1px 3px 1px rgba(60, 64, 67, 0.15);\n",
              "    fill: var(--button-hover-fill-color);\n",
              "  }\n",
              "\n",
              "  .colab-df-quickchart-complete:disabled,\n",
              "  .colab-df-quickchart-complete:disabled:hover {\n",
              "    background-color: var(--disabled-bg-color);\n",
              "    fill: var(--disabled-fill-color);\n",
              "    box-shadow: none;\n",
              "  }\n",
              "\n",
              "  .colab-df-spinner {\n",
              "    border: 2px solid var(--fill-color);\n",
              "    border-color: transparent;\n",
              "    border-bottom-color: var(--fill-color);\n",
              "    animation:\n",
              "      spin 1s steps(1) infinite;\n",
              "  }\n",
              "\n",
              "  @keyframes spin {\n",
              "    0% {\n",
              "      border-color: transparent;\n",
              "      border-bottom-color: var(--fill-color);\n",
              "      border-left-color: var(--fill-color);\n",
              "    }\n",
              "    20% {\n",
              "      border-color: transparent;\n",
              "      border-left-color: var(--fill-color);\n",
              "      border-top-color: var(--fill-color);\n",
              "    }\n",
              "    30% {\n",
              "      border-color: transparent;\n",
              "      border-left-color: var(--fill-color);\n",
              "      border-top-color: var(--fill-color);\n",
              "      border-right-color: var(--fill-color);\n",
              "    }\n",
              "    40% {\n",
              "      border-color: transparent;\n",
              "      border-right-color: var(--fill-color);\n",
              "      border-top-color: var(--fill-color);\n",
              "    }\n",
              "    60% {\n",
              "      border-color: transparent;\n",
              "      border-right-color: var(--fill-color);\n",
              "    }\n",
              "    80% {\n",
              "      border-color: transparent;\n",
              "      border-right-color: var(--fill-color);\n",
              "      border-bottom-color: var(--fill-color);\n",
              "    }\n",
              "    90% {\n",
              "      border-color: transparent;\n",
              "      border-bottom-color: var(--fill-color);\n",
              "    }\n",
              "  }\n",
              "</style>\n",
              "\n",
              "  <script>\n",
              "    async function quickchart(key) {\n",
              "      const quickchartButtonEl =\n",
              "        document.querySelector('#' + key + ' button');\n",
              "      quickchartButtonEl.disabled = true;  // To prevent multiple clicks.\n",
              "      quickchartButtonEl.classList.add('colab-df-spinner');\n",
              "      try {\n",
              "        const charts = await google.colab.kernel.invokeFunction(\n",
              "            'suggestCharts', [key], {});\n",
              "      } catch (error) {\n",
              "        console.error('Error during call to suggestCharts:', error);\n",
              "      }\n",
              "      quickchartButtonEl.classList.remove('colab-df-spinner');\n",
              "      quickchartButtonEl.classList.add('colab-df-quickchart-complete');\n",
              "    }\n",
              "    (() => {\n",
              "      let quickchartButtonEl =\n",
              "        document.querySelector('#df-fd4f430a-833d-4a42-8983-936cb1570de4 button');\n",
              "      quickchartButtonEl.style.display =\n",
              "        google.colab.kernel.accessAllowed ? 'block' : 'none';\n",
              "    })();\n",
              "  </script>\n",
              "</div>\n",
              "\n",
              "    </div>\n",
              "  </div>\n"
            ],
            "application/vnd.google.colaboratory.intrinsic+json": {
              "type": "dataframe",
              "variable_name": "df",
              "summary": "{\n  \"name\": \"df\",\n  \"rows\": 1000,\n  \"fields\": [\n    {\n      \"column\": \"user_id\",\n      \"properties\": {\n        \"dtype\": \"number\",\n        \"std\": 2927,\n        \"min\": 10000,\n        \"max\": 19976,\n        \"num_unique_values\": 1000,\n        \"samples\": [\n          12419,\n          10627,\n          17818\n        ],\n        \"semantic_type\": \"\",\n        \"description\": \"\"\n      }\n    },\n    {\n      \"column\": \"age_group\",\n      \"properties\": {\n        \"dtype\": \"category\",\n        \"num_unique_values\": 3,\n        \"samples\": [\n          \"18-34\",\n          \"under 18\",\n          \"35 and over\"\n        ],\n        \"semantic_type\": \"\",\n        \"description\": \"\"\n      }\n    },\n    {\n      \"column\": \"subscription_status\",\n      \"properties\": {\n        \"dtype\": \"category\",\n        \"num_unique_values\": 2,\n        \"samples\": [\n          \"not_subscribed\",\n          \"subscribed\"\n        ],\n        \"semantic_type\": \"\",\n        \"description\": \"\"\n      }\n    },\n    {\n      \"column\": \"engagement_time\",\n      \"properties\": {\n        \"dtype\": \"number\",\n        \"std\": 2.7571662381446567,\n        \"min\": 0.22,\n        \"max\": 16.98,\n        \"num_unique_values\": 620,\n        \"samples\": [\n          7.64,\n          8.02\n        ],\n        \"semantic_type\": \"\",\n        \"description\": \"\"\n      }\n    }\n  ]\n}"
            }
          },
          "metadata": {},
          "execution_count": 8
        }
      ]
    },
    {
      "cell_type": "markdown",
      "source": [
        "## Checking the shape of the dataset"
      ],
      "metadata": {
        "id": "M_6wtpwMhhFt"
      }
    },
    {
      "cell_type": "code",
      "source": [
        "df.shape"
      ],
      "metadata": {
        "colab": {
          "base_uri": "https://localhost:8080/"
        },
        "id": "d0TF6kT4he1O",
        "outputId": "f011ba5d-c8c4-431f-f08b-69db6363b296"
      },
      "execution_count": 9,
      "outputs": [
        {
          "output_type": "execute_result",
          "data": {
            "text/plain": [
              "(1000, 4)"
            ]
          },
          "metadata": {},
          "execution_count": 9
        }
      ]
    },
    {
      "cell_type": "markdown",
      "source": [
        "The dataset contains 1000 rows and 4 columns."
      ],
      "metadata": {
        "id": "orM03mxihqHo"
      }
    },
    {
      "cell_type": "markdown",
      "source": [
        "## Checking the data types of the columns for the dataset"
      ],
      "metadata": {
        "id": "eF9aHETPhlhK"
      }
    },
    {
      "cell_type": "code",
      "source": [
        "df.info()"
      ],
      "metadata": {
        "colab": {
          "base_uri": "https://localhost:8080/"
        },
        "id": "GWIUPW9jhjnD",
        "outputId": "01ac1588-a5ae-4ba4-cf32-ef801373eefe"
      },
      "execution_count": 10,
      "outputs": [
        {
          "output_type": "stream",
          "name": "stdout",
          "text": [
            "<class 'pandas.core.frame.DataFrame'>\n",
            "RangeIndex: 1000 entries, 0 to 999\n",
            "Data columns (total 4 columns):\n",
            " #   Column               Non-Null Count  Dtype  \n",
            "---  ------               --------------  -----  \n",
            " 0   user_id              1000 non-null   int64  \n",
            " 1   age_group            1000 non-null   object \n",
            " 2   subscription_status  1000 non-null   object \n",
            " 3   engagement_time      1000 non-null   float64\n",
            "dtypes: float64(1), int64(1), object(2)\n",
            "memory usage: 31.4+ KB\n"
          ]
        }
      ]
    },
    {
      "cell_type": "markdown",
      "source": [
        "There are 2 categorical columns and two numeric columns in the dataset."
      ],
      "metadata": {
        "id": "G8XlVHKehwD7"
      }
    },
    {
      "cell_type": "markdown",
      "source": [
        "## Check for missing values"
      ],
      "metadata": {
        "id": "I8rl8RD2hx3Z"
      }
    },
    {
      "cell_type": "code",
      "source": [
        "df.isna().sum()"
      ],
      "metadata": {
        "colab": {
          "base_uri": "https://localhost:8080/",
          "height": 209
        },
        "id": "R4UXjWSshoRx",
        "outputId": "b4cd65ad-1ef6-465b-d0e3-031959b5f606"
      },
      "execution_count": 11,
      "outputs": [
        {
          "output_type": "execute_result",
          "data": {
            "text/plain": [
              "user_id                0\n",
              "age_group              0\n",
              "subscription_status    0\n",
              "engagement_time        0\n",
              "dtype: int64"
            ],
            "text/html": [
              "<div>\n",
              "<style scoped>\n",
              "    .dataframe tbody tr th:only-of-type {\n",
              "        vertical-align: middle;\n",
              "    }\n",
              "\n",
              "    .dataframe tbody tr th {\n",
              "        vertical-align: top;\n",
              "    }\n",
              "\n",
              "    .dataframe thead th {\n",
              "        text-align: right;\n",
              "    }\n",
              "</style>\n",
              "<table border=\"1\" class=\"dataframe\">\n",
              "  <thead>\n",
              "    <tr style=\"text-align: right;\">\n",
              "      <th></th>\n",
              "      <th>0</th>\n",
              "    </tr>\n",
              "  </thead>\n",
              "  <tbody>\n",
              "    <tr>\n",
              "      <th>user_id</th>\n",
              "      <td>0</td>\n",
              "    </tr>\n",
              "    <tr>\n",
              "      <th>age_group</th>\n",
              "      <td>0</td>\n",
              "    </tr>\n",
              "    <tr>\n",
              "      <th>subscription_status</th>\n",
              "      <td>0</td>\n",
              "    </tr>\n",
              "    <tr>\n",
              "      <th>engagement_time</th>\n",
              "      <td>0</td>\n",
              "    </tr>\n",
              "  </tbody>\n",
              "</table>\n",
              "</div><br><label><b>dtype:</b> int64</label>"
            ]
          },
          "metadata": {},
          "execution_count": 11
        }
      ]
    },
    {
      "cell_type": "markdown",
      "source": [
        "There are no missing values in the data."
      ],
      "metadata": {
        "id": "zS3sAM9gh180"
      }
    },
    {
      "cell_type": "markdown",
      "source": [
        "## There are no missing values in the data."
      ],
      "metadata": {
        "id": "PkOg1CE2h3rs"
      }
    },
    {
      "cell_type": "code",
      "source": [
        "df.describe()"
      ],
      "metadata": {
        "colab": {
          "base_uri": "https://localhost:8080/",
          "height": 300
        },
        "id": "Pa1k8yJ3h0Qr",
        "outputId": "3078c128-53c0-434e-8cdb-3168d30572dc"
      },
      "execution_count": 12,
      "outputs": [
        {
          "output_type": "execute_result",
          "data": {
            "text/plain": [
              "            user_id  engagement_time\n",
              "count   1000.000000      1000.000000\n",
              "mean   15024.803000         6.180030\n",
              "std     2927.044957         2.757166\n",
              "min    10000.000000         0.220000\n",
              "25%    12452.500000         3.917500\n",
              "50%    15184.000000         6.000000\n",
              "75%    17481.250000         8.110000\n",
              "max    19976.000000        16.980000"
            ],
            "text/html": [
              "\n",
              "  <div id=\"df-f2170280-7b7c-4f23-b49a-68339ab77b94\" class=\"colab-df-container\">\n",
              "    <div>\n",
              "<style scoped>\n",
              "    .dataframe tbody tr th:only-of-type {\n",
              "        vertical-align: middle;\n",
              "    }\n",
              "\n",
              "    .dataframe tbody tr th {\n",
              "        vertical-align: top;\n",
              "    }\n",
              "\n",
              "    .dataframe thead th {\n",
              "        text-align: right;\n",
              "    }\n",
              "</style>\n",
              "<table border=\"1\" class=\"dataframe\">\n",
              "  <thead>\n",
              "    <tr style=\"text-align: right;\">\n",
              "      <th></th>\n",
              "      <th>user_id</th>\n",
              "      <th>engagement_time</th>\n",
              "    </tr>\n",
              "  </thead>\n",
              "  <tbody>\n",
              "    <tr>\n",
              "      <th>count</th>\n",
              "      <td>1000.000000</td>\n",
              "      <td>1000.000000</td>\n",
              "    </tr>\n",
              "    <tr>\n",
              "      <th>mean</th>\n",
              "      <td>15024.803000</td>\n",
              "      <td>6.180030</td>\n",
              "    </tr>\n",
              "    <tr>\n",
              "      <th>std</th>\n",
              "      <td>2927.044957</td>\n",
              "      <td>2.757166</td>\n",
              "    </tr>\n",
              "    <tr>\n",
              "      <th>min</th>\n",
              "      <td>10000.000000</td>\n",
              "      <td>0.220000</td>\n",
              "    </tr>\n",
              "    <tr>\n",
              "      <th>25%</th>\n",
              "      <td>12452.500000</td>\n",
              "      <td>3.917500</td>\n",
              "    </tr>\n",
              "    <tr>\n",
              "      <th>50%</th>\n",
              "      <td>15184.000000</td>\n",
              "      <td>6.000000</td>\n",
              "    </tr>\n",
              "    <tr>\n",
              "      <th>75%</th>\n",
              "      <td>17481.250000</td>\n",
              "      <td>8.110000</td>\n",
              "    </tr>\n",
              "    <tr>\n",
              "      <th>max</th>\n",
              "      <td>19976.000000</td>\n",
              "      <td>16.980000</td>\n",
              "    </tr>\n",
              "  </tbody>\n",
              "</table>\n",
              "</div>\n",
              "    <div class=\"colab-df-buttons\">\n",
              "\n",
              "  <div class=\"colab-df-container\">\n",
              "    <button class=\"colab-df-convert\" onclick=\"convertToInteractive('df-f2170280-7b7c-4f23-b49a-68339ab77b94')\"\n",
              "            title=\"Convert this dataframe to an interactive table.\"\n",
              "            style=\"display:none;\">\n",
              "\n",
              "  <svg xmlns=\"http://www.w3.org/2000/svg\" height=\"24px\" viewBox=\"0 -960 960 960\">\n",
              "    <path d=\"M120-120v-720h720v720H120Zm60-500h600v-160H180v160Zm220 220h160v-160H400v160Zm0 220h160v-160H400v160ZM180-400h160v-160H180v160Zm440 0h160v-160H620v160ZM180-180h160v-160H180v160Zm440 0h160v-160H620v160Z\"/>\n",
              "  </svg>\n",
              "    </button>\n",
              "\n",
              "  <style>\n",
              "    .colab-df-container {\n",
              "      display:flex;\n",
              "      gap: 12px;\n",
              "    }\n",
              "\n",
              "    .colab-df-convert {\n",
              "      background-color: #E8F0FE;\n",
              "      border: none;\n",
              "      border-radius: 50%;\n",
              "      cursor: pointer;\n",
              "      display: none;\n",
              "      fill: #1967D2;\n",
              "      height: 32px;\n",
              "      padding: 0 0 0 0;\n",
              "      width: 32px;\n",
              "    }\n",
              "\n",
              "    .colab-df-convert:hover {\n",
              "      background-color: #E2EBFA;\n",
              "      box-shadow: 0px 1px 2px rgba(60, 64, 67, 0.3), 0px 1px 3px 1px rgba(60, 64, 67, 0.15);\n",
              "      fill: #174EA6;\n",
              "    }\n",
              "\n",
              "    .colab-df-buttons div {\n",
              "      margin-bottom: 4px;\n",
              "    }\n",
              "\n",
              "    [theme=dark] .colab-df-convert {\n",
              "      background-color: #3B4455;\n",
              "      fill: #D2E3FC;\n",
              "    }\n",
              "\n",
              "    [theme=dark] .colab-df-convert:hover {\n",
              "      background-color: #434B5C;\n",
              "      box-shadow: 0px 1px 3px 1px rgba(0, 0, 0, 0.15);\n",
              "      filter: drop-shadow(0px 1px 2px rgba(0, 0, 0, 0.3));\n",
              "      fill: #FFFFFF;\n",
              "    }\n",
              "  </style>\n",
              "\n",
              "    <script>\n",
              "      const buttonEl =\n",
              "        document.querySelector('#df-f2170280-7b7c-4f23-b49a-68339ab77b94 button.colab-df-convert');\n",
              "      buttonEl.style.display =\n",
              "        google.colab.kernel.accessAllowed ? 'block' : 'none';\n",
              "\n",
              "      async function convertToInteractive(key) {\n",
              "        const element = document.querySelector('#df-f2170280-7b7c-4f23-b49a-68339ab77b94');\n",
              "        const dataTable =\n",
              "          await google.colab.kernel.invokeFunction('convertToInteractive',\n",
              "                                                    [key], {});\n",
              "        if (!dataTable) return;\n",
              "\n",
              "        const docLinkHtml = 'Like what you see? Visit the ' +\n",
              "          '<a target=\"_blank\" href=https://colab.research.google.com/notebooks/data_table.ipynb>data table notebook</a>'\n",
              "          + ' to learn more about interactive tables.';\n",
              "        element.innerHTML = '';\n",
              "        dataTable['output_type'] = 'display_data';\n",
              "        await google.colab.output.renderOutput(dataTable, element);\n",
              "        const docLink = document.createElement('div');\n",
              "        docLink.innerHTML = docLinkHtml;\n",
              "        element.appendChild(docLink);\n",
              "      }\n",
              "    </script>\n",
              "  </div>\n",
              "\n",
              "\n",
              "<div id=\"df-b7846fc1-75b8-4b37-a6e5-ee0331245d21\">\n",
              "  <button class=\"colab-df-quickchart\" onclick=\"quickchart('df-b7846fc1-75b8-4b37-a6e5-ee0331245d21')\"\n",
              "            title=\"Suggest charts\"\n",
              "            style=\"display:none;\">\n",
              "\n",
              "<svg xmlns=\"http://www.w3.org/2000/svg\" height=\"24px\"viewBox=\"0 0 24 24\"\n",
              "     width=\"24px\">\n",
              "    <g>\n",
              "        <path d=\"M19 3H5c-1.1 0-2 .9-2 2v14c0 1.1.9 2 2 2h14c1.1 0 2-.9 2-2V5c0-1.1-.9-2-2-2zM9 17H7v-7h2v7zm4 0h-2V7h2v10zm4 0h-2v-4h2v4z\"/>\n",
              "    </g>\n",
              "</svg>\n",
              "  </button>\n",
              "\n",
              "<style>\n",
              "  .colab-df-quickchart {\n",
              "      --bg-color: #E8F0FE;\n",
              "      --fill-color: #1967D2;\n",
              "      --hover-bg-color: #E2EBFA;\n",
              "      --hover-fill-color: #174EA6;\n",
              "      --disabled-fill-color: #AAA;\n",
              "      --disabled-bg-color: #DDD;\n",
              "  }\n",
              "\n",
              "  [theme=dark] .colab-df-quickchart {\n",
              "      --bg-color: #3B4455;\n",
              "      --fill-color: #D2E3FC;\n",
              "      --hover-bg-color: #434B5C;\n",
              "      --hover-fill-color: #FFFFFF;\n",
              "      --disabled-bg-color: #3B4455;\n",
              "      --disabled-fill-color: #666;\n",
              "  }\n",
              "\n",
              "  .colab-df-quickchart {\n",
              "    background-color: var(--bg-color);\n",
              "    border: none;\n",
              "    border-radius: 50%;\n",
              "    cursor: pointer;\n",
              "    display: none;\n",
              "    fill: var(--fill-color);\n",
              "    height: 32px;\n",
              "    padding: 0;\n",
              "    width: 32px;\n",
              "  }\n",
              "\n",
              "  .colab-df-quickchart:hover {\n",
              "    background-color: var(--hover-bg-color);\n",
              "    box-shadow: 0 1px 2px rgba(60, 64, 67, 0.3), 0 1px 3px 1px rgba(60, 64, 67, 0.15);\n",
              "    fill: var(--button-hover-fill-color);\n",
              "  }\n",
              "\n",
              "  .colab-df-quickchart-complete:disabled,\n",
              "  .colab-df-quickchart-complete:disabled:hover {\n",
              "    background-color: var(--disabled-bg-color);\n",
              "    fill: var(--disabled-fill-color);\n",
              "    box-shadow: none;\n",
              "  }\n",
              "\n",
              "  .colab-df-spinner {\n",
              "    border: 2px solid var(--fill-color);\n",
              "    border-color: transparent;\n",
              "    border-bottom-color: var(--fill-color);\n",
              "    animation:\n",
              "      spin 1s steps(1) infinite;\n",
              "  }\n",
              "\n",
              "  @keyframes spin {\n",
              "    0% {\n",
              "      border-color: transparent;\n",
              "      border-bottom-color: var(--fill-color);\n",
              "      border-left-color: var(--fill-color);\n",
              "    }\n",
              "    20% {\n",
              "      border-color: transparent;\n",
              "      border-left-color: var(--fill-color);\n",
              "      border-top-color: var(--fill-color);\n",
              "    }\n",
              "    30% {\n",
              "      border-color: transparent;\n",
              "      border-left-color: var(--fill-color);\n",
              "      border-top-color: var(--fill-color);\n",
              "      border-right-color: var(--fill-color);\n",
              "    }\n",
              "    40% {\n",
              "      border-color: transparent;\n",
              "      border-right-color: var(--fill-color);\n",
              "      border-top-color: var(--fill-color);\n",
              "    }\n",
              "    60% {\n",
              "      border-color: transparent;\n",
              "      border-right-color: var(--fill-color);\n",
              "    }\n",
              "    80% {\n",
              "      border-color: transparent;\n",
              "      border-right-color: var(--fill-color);\n",
              "      border-bottom-color: var(--fill-color);\n",
              "    }\n",
              "    90% {\n",
              "      border-color: transparent;\n",
              "      border-bottom-color: var(--fill-color);\n",
              "    }\n",
              "  }\n",
              "</style>\n",
              "\n",
              "  <script>\n",
              "    async function quickchart(key) {\n",
              "      const quickchartButtonEl =\n",
              "        document.querySelector('#' + key + ' button');\n",
              "      quickchartButtonEl.disabled = true;  // To prevent multiple clicks.\n",
              "      quickchartButtonEl.classList.add('colab-df-spinner');\n",
              "      try {\n",
              "        const charts = await google.colab.kernel.invokeFunction(\n",
              "            'suggestCharts', [key], {});\n",
              "      } catch (error) {\n",
              "        console.error('Error during call to suggestCharts:', error);\n",
              "      }\n",
              "      quickchartButtonEl.classList.remove('colab-df-spinner');\n",
              "      quickchartButtonEl.classList.add('colab-df-quickchart-complete');\n",
              "    }\n",
              "    (() => {\n",
              "      let quickchartButtonEl =\n",
              "        document.querySelector('#df-b7846fc1-75b8-4b37-a6e5-ee0331245d21 button');\n",
              "      quickchartButtonEl.style.display =\n",
              "        google.colab.kernel.accessAllowed ? 'block' : 'none';\n",
              "    })();\n",
              "  </script>\n",
              "</div>\n",
              "\n",
              "    </div>\n",
              "  </div>\n"
            ],
            "application/vnd.google.colaboratory.intrinsic+json": {
              "type": "dataframe",
              "summary": "{\n  \"name\": \"df\",\n  \"rows\": 8,\n  \"fields\": [\n    {\n      \"column\": \"user_id\",\n      \"properties\": {\n        \"dtype\": \"number\",\n        \"std\": 6761.1682769975005,\n        \"min\": 1000.0,\n        \"max\": 19976.0,\n        \"num_unique_values\": 8,\n        \"samples\": [\n          15024.803,\n          15184.0,\n          1000.0\n        ],\n        \"semantic_type\": \"\",\n        \"description\": \"\"\n      }\n    },\n    {\n      \"column\": \"engagement_time\",\n      \"properties\": {\n        \"dtype\": \"number\",\n        \"std\": 351.3578341507931,\n        \"min\": 0.22,\n        \"max\": 1000.0,\n        \"num_unique_values\": 8,\n        \"samples\": [\n          6.1800299999999995,\n          6.0,\n          1000.0\n        ],\n        \"semantic_type\": \"\",\n        \"description\": \"\"\n      }\n    }\n  ]\n}"
            }
          },
          "metadata": {},
          "execution_count": 12
        }
      ]
    },
    {
      "cell_type": "markdown",
      "source": [
        "* The user_id is a column consisting of unique user-ids.\n",
        "* The mean engagement-time is 6.18 hrs, while the median engagement-time is 6 hrs."
      ],
      "metadata": {
        "id": "6hFgnWs2h9ko"
      }
    },
    {
      "cell_type": "markdown",
      "source": [
        "## One Sample t-test"
      ],
      "metadata": {
        "id": "r_2aQOLDiBxS"
      }
    },
    {
      "cell_type": "markdown",
      "source": [
        "#### Is the average app engagement time of AZ Tunes significantly greater than the market average (6 hours)?\n",
        "\n",
        "To visualize the distribution of engagement-time, we can plot a distribution plot."
      ],
      "metadata": {
        "id": "UoiPTp8riEfE"
      }
    },
    {
      "cell_type": "code",
      "source": [
        "# plot the distribution plot of engagement-time\n",
        "print('Sample mean:' , np.round(df.engagement_time.mean(),2))\n",
        "sns.displot(df.engagement_time)\n",
        "plt.show()"
      ],
      "metadata": {
        "colab": {
          "base_uri": "https://localhost:8080/",
          "height": 524
        },
        "id": "cNKgzDMOh6Po",
        "outputId": "c021c890-b661-4a76-ca66-b9b42122c440"
      },
      "execution_count": 13,
      "outputs": [
        {
          "output_type": "stream",
          "name": "stdout",
          "text": [
            "Sample mean: 6.18\n"
          ]
        },
        {
          "output_type": "display_data",
          "data": {
            "text/plain": [
              "<Figure size 500x500 with 1 Axes>"
            ],
            "image/png": "[encoded data removed]"
          },
          "metadata": {}
        }
      ]
    },
    {
      "cell_type": "markdown",
      "source": [
        "The distribution looks a little skewed to the right."
      ],
      "metadata": {
        "id": "bMkqYuvficeM"
      }
    },
    {
      "cell_type": "markdown",
      "source": [
        "### Step 1: Define null and alternative hypotheses\n",
        "\n",
        "Let's frame the null and alternative hypothesis based on the above claim can be formulated as:"
      ],
      "metadata": {
        "id": "nsvq6PSlifS0"
      }
    },
    {
      "cell_type": "markdown",
      "source": [
        "![image.png](data:image/png;base64,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)"
      ],
      "metadata": {
        "id": "_WEnJXP8ikix"
      }
    },
    {
      "cell_type": "markdown",
      "source": [
        "### Step 2: Select Appropriate test"
      ],
      "metadata": {
        "id": "pjvDrXCdindm"
      }
    },
    {
      "cell_type": "markdown",
      "source": [
        "This is a case of a one-tailed test for the significance of a single mean. As the population standard deviation is unknown, a one-sample t-test will be appropriate to test the formulated hypotheses.\n",
        "\n",
        "In a one sample t-test, we compare a sample mean with a hypothesized population mean to check if the sample mean differs significantly from the population mean. We are provided that the sample is randomly selected and we assume that it has come from a normally distributed population."
      ],
      "metadata": {
        "id": "FedyI2WPiqNv"
      }
    },
    {
      "cell_type": "markdown",
      "source": [
        "### Step 3: Decide the significance level\n",
        "\n",
        "Let's set the level of significane (alpha) as 0.05"
      ],
      "metadata": {
        "id": "uZUy14Xfiux4"
      }
    },
    {
      "cell_type": "markdown",
      "source": [
        "### Step 4: Calculate the p-value"
      ],
      "metadata": {
        "id": "Fuutms_diy7F"
      }
    },
    {
      "cell_type": "markdown",
      "source": [
        "We will use the ttest_1samp() function from the scipy.stats library to perform a one- sample t-test.\n",
        "\n",
        "The ttest_1samp() function takes the sample observations, hypothesized population mean and the direction of the alternative hypothesis as input and returns the test statistic and the p- value for the test.\n",
        "\n",
        "• The sample observations are the values of app engagement time in the dataset.\n",
        "\n",
        "• The hypotheisized population mean, as provided in the problem statement and defined in the formulated hypotheses is 6 hours\n",
        "\n",
        "• As it is a one-tailed test towards the right, we will set the argument alternative 'greater'"
      ],
      "metadata": {
        "id": "dQU1UvE-i3Jw"
      }
    },
    {
      "cell_type": "code",
      "source": [
        "hyp_mean = 6\n",
        "t_stat, p_value = stats.ttest_1samp(df ['engagement_time'], hyp_mean, alternative='greater')\n",
        "print(\"Test Statistic\",t_stat)\n",
        "print(\"p-value =\", p_value)"
      ],
      "metadata": {
        "colab": {
          "base_uri": "https://localhost:8080/"
        },
        "id": "RlriYeTmiY9H",
        "outputId": "5adf5315-9845-4443-e395-49abfd32d2f9"
      },
      "execution_count": 16,
      "outputs": [
        {
          "output_type": "stream",
          "name": "stdout",
          "text": [
            "Test Statistic 2.0648187232381248\n",
            "p-value = 0.019598877431817586\n"
          ]
        }
      ]
    },
    {
      "cell_type": "markdown",
      "source": [
        "Note: The type of test (one-tailed/two-tailed) has an effect on the p-value. The alternative argument is set to 'greater' as our alternative hypothesis states that mean app engagement time of AZ Tunes is greater than the market average."
      ],
      "metadata": {
        "id": "qjDP2Sv-jSob"
      }
    },
    {
      "cell_type": "markdown",
      "source": [],
      "metadata": {
        "id": "mkMxCgI8jUuN"
      }
    },
    {
      "cell_type": "markdown",
      "source": [
        "### The test statistic follows a t distribution.\n",
        "\n",
        "Let's plot the distribution of the t-test statistic and see where the computed test statistic lies in the plot."
      ],
      "metadata": {
        "id": "8RPVjPoEjUj8"
      }
    },
    {
      "cell_type": "code",
      "source": [
        "# plot the t-stat distribution.\n",
        "#import the required function\n",
        "from scipy.stats import t"
      ],
      "metadata": {
        "id": "N6JAGDjtjDSh"
      },
      "execution_count": 17,
      "outputs": []
    },
    {
      "cell_type": "code",
      "source": [
        "# plotting the distribution of t test statistic along with the computed test statistic\n",
        "# We are plotting the distributions here to better visualize the calculations\n",
        "x= np.linspace(-4, 4, 100) # create an array of 100 numbers starting from -4 and ending at\n",
        "plt.plot(x, t.pdf(x,df=len (df)-1)) # plot the pdf of the t distribution with n-1 degrees of\n",
        "plt.axvline(x=t_stat, c='r') # draw a vertical red line through the mentioned point\n",
        "plt.show() # display the plot"
      ],
      "metadata": {
        "colab": {
          "base_uri": "https://localhost:8080/",
          "height": 430
        },
        "id": "7bGdn-LbjcJp",
        "outputId": "79db9edd-a569-46cd-9646-5c00a41ed357"
      },
      "execution_count": 18,
      "outputs": [
        {
          "output_type": "display_data",
          "data": {
            "text/plain": [
              "<Figure size 640x480 with 1 Axes>"
            ],
            "image/png": "[encoded data removed]"
          },
          "metadata": {}
        }
      ]
    },
    {
      "cell_type": "code",
      "source": [],
      "metadata": {
        "id": "Xg9IpVkjjsp1"
      },
      "execution_count": null,
      "outputs": []
    },
    {
      "cell_type": "markdown",
      "source": [
        "### Step 5: Compare the p-value with alpha"
      ],
      "metadata": {
        "id": "mkS9XGppjwyA"
      }
    },
    {
      "cell_type": "code",
      "source": [
        "# print the conclusion based on p-value\n",
        "if p_value < 0.05:\n",
        "  print(f'As the p-value {p_value} is less than the level of significance, we reject the null hypothesis')\n",
        "else:\n",
        "  print(f'As the p-value {p_value} is greater than the level of significance, we fail to reject the null hypothesis')"
      ],
      "metadata": {
        "colab": {
          "base_uri": "https://localhost:8080/"
        },
        "id": "Kmm29RJ3jy40",
        "outputId": "f98c0218-815d-4773-aa0e-2891bf3c7365"
      },
      "execution_count": 19,
      "outputs": [
        {
          "output_type": "stream",
          "name": "stdout",
          "text": [
            "As the p-value 0.019598877431817586 is less than the level of significance, we reject the null hypothesis\n"
          ]
        }
      ]
    },
    {
      "cell_type": "code",
      "source": [],
      "metadata": {
        "id": "QYjl7i9WkL8R"
      },
      "execution_count": null,
      "outputs": []
    },
    {
      "cell_type": "markdown",
      "source": [
        "### Step 6: Draw Inference"
      ],
      "metadata": {
        "id": "KnQn08JakOWl"
      }
    },
    {
      "cell_type": "markdown",
      "source": [
        "Since the p-value is less than the 5% significance level, we reject the null hypothesis. Hence, we have enough statistical evidence to say that the mean app engagement time of AZ tunes is greater than the market average (6 hrs)."
      ],
      "metadata": {
        "id": "dv6zp1mdkRXG"
      }
    },
    {
      "cell_type": "markdown",
      "source": [
        "## Chi-square Test for Independence"
      ],
      "metadata": {
        "id": "pBelm0wVkT1e"
      }
    },
    {
      "cell_type": "markdown",
      "source": [
        "Is the difference in proportions of subscribers & non-subscribers (in 3 groups under 18, 18-34, and over 35) significantly different to conclude that a particular group is most likely to subscribe?"
      ],
      "metadata": {
        "id": "FXRu2sjDkX3x"
      }
    },
    {
      "cell_type": "markdown",
      "source": [
        "Since both the concerned variables are categorical in nature, we can use a contingency table and a stacked bar graph to visually inspect the data.\n",
        "\n",
        "A contingency table is a tabular representation of categorical data that shows the number of observations for combinations of values between two categorical variables, say X and Y\n",
        "\n",
        "Each cell in the contingency table represents a combination of X-Y values\n",
        "\n",
        "The pandas crosstab(), function is used to create a contingency table between two categorical variables from a dataframe. The syntax of the function is:\n",
        "\n",
        "pd.crosstab(index, columns, margins=False, normalize=False)\n",
        "\n",
        "where\n",
        "\n",
        "* index. Values to group by in the rows\n",
        "* columns: Values to group by in the columns\n",
        "* margins: Whether to add row/column sub-totals. Default value is False normalize.\n",
        "* Whether to normalize the value-counts. Default value is False"
      ],
      "metadata": {
        "id": "N5U-zDSLkbuz"
      }
    },
    {
      "cell_type": "code",
      "source": [
        "#create a contingency table to tabulate the frequencies of the two categorical variables\n",
        "pd.crosstab(df.age_group,df.subscription_status, margins=True)"
      ],
      "metadata": {
        "colab": {
          "base_uri": "https://localhost:8080/",
          "height": 206
        },
        "id": "3_3BNPYPkPsR",
        "outputId": "288eaddd-2ca3-492e-ad2d-e1e2e8052b0d"
      },
      "execution_count": 20,
      "outputs": [
        {
          "output_type": "execute_result",
          "data": {
            "text/plain": [
              "subscription_status  not_subscribed  subscribed   All\n",
              "age_group                                            \n",
              "18-34                           103         262   365\n",
              "35 and over                     237         171   408\n",
              "under 18                        107         120   227\n",
              "All                             447         553  1000"
            ],
            "text/html": [
              "\n",
              "  <div id=\"df-8085632e-a7d4-4ea8-83a7-c6e754639979\" class=\"colab-df-container\">\n",
              "    <div>\n",
              "<style scoped>\n",
              "    .dataframe tbody tr th:only-of-type {\n",
              "        vertical-align: middle;\n",
              "    }\n",
              "\n",
              "    .dataframe tbody tr th {\n",
              "        vertical-align: top;\n",
              "    }\n",
              "\n",
              "    .dataframe thead th {\n",
              "        text-align: right;\n",
              "    }\n",
              "</style>\n",
              "<table border=\"1\" class=\"dataframe\">\n",
              "  <thead>\n",
              "    <tr style=\"text-align: right;\">\n",
              "      <th>subscription_status</th>\n",
              "      <th>not_subscribed</th>\n",
              "      <th>subscribed</th>\n",
              "      <th>All</th>\n",
              "    </tr>\n",
              "    <tr>\n",
              "      <th>age_group</th>\n",
              "      <th></th>\n",
              "      <th></th>\n",
              "      <th></th>\n",
              "    </tr>\n",
              "  </thead>\n",
              "  <tbody>\n",
              "    <tr>\n",
              "      <th>18-34</th>\n",
              "      <td>103</td>\n",
              "      <td>262</td>\n",
              "      <td>365</td>\n",
              "    </tr>\n",
              "    <tr>\n",
              "      <th>35 and over</th>\n",
              "      <td>237</td>\n",
              "      <td>171</td>\n",
              "      <td>408</td>\n",
              "    </tr>\n",
              "    <tr>\n",
              "      <th>under 18</th>\n",
              "      <td>107</td>\n",
              "      <td>120</td>\n",
              "      <td>227</td>\n",
              "    </tr>\n",
              "    <tr>\n",
              "      <th>All</th>\n",
              "      <td>447</td>\n",
              "      <td>553</td>\n",
              "      <td>1000</td>\n",
              "    </tr>\n",
              "  </tbody>\n",
              "</table>\n",
              "</div>\n",
              "    <div class=\"colab-df-buttons\">\n",
              "\n",
              "  <div class=\"colab-df-container\">\n",
              "    <button class=\"colab-df-convert\" onclick=\"convertToInteractive('df-8085632e-a7d4-4ea8-83a7-c6e754639979')\"\n",
              "            title=\"Convert this dataframe to an interactive table.\"\n",
              "            style=\"display:none;\">\n",
              "\n",
              "  <svg xmlns=\"http://www.w3.org/2000/svg\" height=\"24px\" viewBox=\"0 -960 960 960\">\n",
              "    <path d=\"M120-120v-720h720v720H120Zm60-500h600v-160H180v160Zm220 220h160v-160H400v160Zm0 220h160v-160H400v160ZM180-400h160v-160H180v160Zm440 0h160v-160H620v160ZM180-180h160v-160H180v160Zm440 0h160v-160H620v160Z\"/>\n",
              "  </svg>\n",
              "    </button>\n",
              "\n",
              "  <style>\n",
              "    .colab-df-container {\n",
              "      display:flex;\n",
              "      gap: 12px;\n",
              "    }\n",
              "\n",
              "    .colab-df-convert {\n",
              "      background-color: #E8F0FE;\n",
              "      border: none;\n",
              "      border-radius: 50%;\n",
              "      cursor: pointer;\n",
              "      display: none;\n",
              "      fill: #1967D2;\n",
              "      height: 32px;\n",
              "      padding: 0 0 0 0;\n",
              "      width: 32px;\n",
              "    }\n",
              "\n",
              "    .colab-df-convert:hover {\n",
              "      background-color: #E2EBFA;\n",
              "      box-shadow: 0px 1px 2px rgba(60, 64, 67, 0.3), 0px 1px 3px 1px rgba(60, 64, 67, 0.15);\n",
              "      fill: #174EA6;\n",
              "    }\n",
              "\n",
              "    .colab-df-buttons div {\n",
              "      margin-bottom: 4px;\n",
              "    }\n",
              "\n",
              "    [theme=dark] .colab-df-convert {\n",
              "      background-color: #3B4455;\n",
              "      fill: #D2E3FC;\n",
              "    }\n",
              "\n",
              "    [theme=dark] .colab-df-convert:hover {\n",
              "      background-color: #434B5C;\n",
              "      box-shadow: 0px 1px 3px 1px rgba(0, 0, 0, 0.15);\n",
              "      filter: drop-shadow(0px 1px 2px rgba(0, 0, 0, 0.3));\n",
              "      fill: #FFFFFF;\n",
              "    }\n",
              "  </style>\n",
              "\n",
              "    <script>\n",
              "      const buttonEl =\n",
              "        document.querySelector('#df-8085632e-a7d4-4ea8-83a7-c6e754639979 button.colab-df-convert');\n",
              "      buttonEl.style.display =\n",
              "        google.colab.kernel.accessAllowed ? 'block' : 'none';\n",
              "\n",
              "      async function convertToInteractive(key) {\n",
              "        const element = document.querySelector('#df-8085632e-a7d4-4ea8-83a7-c6e754639979');\n",
              "        const dataTable =\n",
              "          await google.colab.kernel.invokeFunction('convertToInteractive',\n",
              "                                                    [key], {});\n",
              "        if (!dataTable) return;\n",
              "\n",
              "        const docLinkHtml = 'Like what you see? Visit the ' +\n",
              "          '<a target=\"_blank\" href=https://colab.research.google.com/notebooks/data_table.ipynb>data table notebook</a>'\n",
              "          + ' to learn more about interactive tables.';\n",
              "        element.innerHTML = '';\n",
              "        dataTable['output_type'] = 'display_data';\n",
              "        await google.colab.output.renderOutput(dataTable, element);\n",
              "        const docLink = document.createElement('div');\n",
              "        docLink.innerHTML = docLinkHtml;\n",
              "        element.appendChild(docLink);\n",
              "      }\n",
              "    </script>\n",
              "  </div>\n",
              "\n",
              "\n",
              "<div id=\"df-7fbcd747-1f3d-497c-8673-01b7bd3ec105\">\n",
              "  <button class=\"colab-df-quickchart\" onclick=\"quickchart('df-7fbcd747-1f3d-497c-8673-01b7bd3ec105')\"\n",
              "            title=\"Suggest charts\"\n",
              "            style=\"display:none;\">\n",
              "\n",
              "<svg xmlns=\"http://www.w3.org/2000/svg\" height=\"24px\"viewBox=\"0 0 24 24\"\n",
              "     width=\"24px\">\n",
              "    <g>\n",
              "        <path d=\"M19 3H5c-1.1 0-2 .9-2 2v14c0 1.1.9 2 2 2h14c1.1 0 2-.9 2-2V5c0-1.1-.9-2-2-2zM9 17H7v-7h2v7zm4 0h-2V7h2v10zm4 0h-2v-4h2v4z\"/>\n",
              "    </g>\n",
              "</svg>\n",
              "  </button>\n",
              "\n",
              "<style>\n",
              "  .colab-df-quickchart {\n",
              "      --bg-color: #E8F0FE;\n",
              "      --fill-color: #1967D2;\n",
              "      --hover-bg-color: #E2EBFA;\n",
              "      --hover-fill-color: #174EA6;\n",
              "      --disabled-fill-color: #AAA;\n",
              "      --disabled-bg-color: #DDD;\n",
              "  }\n",
              "\n",
              "  [theme=dark] .colab-df-quickchart {\n",
              "      --bg-color: #3B4455;\n",
              "      --fill-color: #D2E3FC;\n",
              "      --hover-bg-color: #434B5C;\n",
              "      --hover-fill-color: #FFFFFF;\n",
              "      --disabled-bg-color: #3B4455;\n",
              "      --disabled-fill-color: #666;\n",
              "  }\n",
              "\n",
              "  .colab-df-quickchart {\n",
              "    background-color: var(--bg-color);\n",
              "    border: none;\n",
              "    border-radius: 50%;\n",
              "    cursor: pointer;\n",
              "    display: none;\n",
              "    fill: var(--fill-color);\n",
              "    height: 32px;\n",
              "    padding: 0;\n",
              "    width: 32px;\n",
              "  }\n",
              "\n",
              "  .colab-df-quickchart:hover {\n",
              "    background-color: var(--hover-bg-color);\n",
              "    box-shadow: 0 1px 2px rgba(60, 64, 67, 0.3), 0 1px 3px 1px rgba(60, 64, 67, 0.15);\n",
              "    fill: var(--button-hover-fill-color);\n",
              "  }\n",
              "\n",
              "  .colab-df-quickchart-complete:disabled,\n",
              "  .colab-df-quickchart-complete:disabled:hover {\n",
              "    background-color: var(--disabled-bg-color);\n",
              "    fill: var(--disabled-fill-color);\n",
              "    box-shadow: none;\n",
              "  }\n",
              "\n",
              "  .colab-df-spinner {\n",
              "    border: 2px solid var(--fill-color);\n",
              "    border-color: transparent;\n",
              "    border-bottom-color: var(--fill-color);\n",
              "    animation:\n",
              "      spin 1s steps(1) infinite;\n",
              "  }\n",
              "\n",
              "  @keyframes spin {\n",
              "    0% {\n",
              "      border-color: transparent;\n",
              "      border-bottom-color: var(--fill-color);\n",
              "      border-left-color: var(--fill-color);\n",
              "    }\n",
              "    20% {\n",
              "      border-color: transparent;\n",
              "      border-left-color: var(--fill-color);\n",
              "      border-top-color: var(--fill-color);\n",
              "    }\n",
              "    30% {\n",
              "      border-color: transparent;\n",
              "      border-left-color: var(--fill-color);\n",
              "      border-top-color: var(--fill-color);\n",
              "      border-right-color: var(--fill-color);\n",
              "    }\n",
              "    40% {\n",
              "      border-color: transparent;\n",
              "      border-right-color: var(--fill-color);\n",
              "      border-top-color: var(--fill-color);\n",
              "    }\n",
              "    60% {\n",
              "      border-color: transparent;\n",
              "      border-right-color: var(--fill-color);\n",
              "    }\n",
              "    80% {\n",
              "      border-color: transparent;\n",
              "      border-right-color: var(--fill-color);\n",
              "      border-bottom-color: var(--fill-color);\n",
              "    }\n",
              "    90% {\n",
              "      border-color: transparent;\n",
              "      border-bottom-color: var(--fill-color);\n",
              "    }\n",
              "  }\n",
              "</style>\n",
              "\n",
              "  <script>\n",
              "    async function quickchart(key) {\n",
              "      const quickchartButtonEl =\n",
              "        document.querySelector('#' + key + ' button');\n",
              "      quickchartButtonEl.disabled = true;  // To prevent multiple clicks.\n",
              "      quickchartButtonEl.classList.add('colab-df-spinner');\n",
              "      try {\n",
              "        const charts = await google.colab.kernel.invokeFunction(\n",
              "            'suggestCharts', [key], {});\n",
              "      } catch (error) {\n",
              "        console.error('Error during call to suggestCharts:', error);\n",
              "      }\n",
              "      quickchartButtonEl.classList.remove('colab-df-spinner');\n",
              "      quickchartButtonEl.classList.add('colab-df-quickchart-complete');\n",
              "    }\n",
              "    (() => {\n",
              "      let quickchartButtonEl =\n",
              "        document.querySelector('#df-7fbcd747-1f3d-497c-8673-01b7bd3ec105 button');\n",
              "      quickchartButtonEl.style.display =\n",
              "        google.colab.kernel.accessAllowed ? 'block' : 'none';\n",
              "    })();\n",
              "  </script>\n",
              "</div>\n",
              "\n",
              "    </div>\n",
              "  </div>\n"
            ],
            "application/vnd.google.colaboratory.intrinsic+json": {
              "type": "dataframe",
              "summary": "{\n  \"name\": \"pd\",\n  \"rows\": 4,\n  \"fields\": [\n    {\n      \"column\": \"age_group\",\n      \"properties\": {\n        \"dtype\": \"string\",\n        \"num_unique_values\": 4,\n        \"samples\": [\n          \"35 and over\",\n          \"All\",\n          \"18-34\"\n        ],\n        \"semantic_type\": \"\",\n        \"description\": \"\"\n      }\n    },\n    {\n      \"column\": \"not_subscribed\",\n      \"properties\": {\n        \"dtype\": \"number\",\n        \"std\": 161,\n        \"min\": 103,\n        \"max\": 447,\n        \"num_unique_values\": 4,\n        \"samples\": [\n          237,\n          447,\n          103\n        ],\n        \"semantic_type\": \"\",\n        \"description\": \"\"\n      }\n    },\n    {\n      \"column\": \"subscribed\",\n      \"properties\": {\n        \"dtype\": \"number\",\n        \"std\": 193,\n        \"min\": 120,\n        \"max\": 553,\n        \"num_unique_values\": 4,\n        \"samples\": [\n          171,\n          553,\n          262\n        ],\n        \"semantic_type\": \"\",\n        \"description\": \"\"\n      }\n    },\n    {\n      \"column\": \"All\",\n      \"properties\": {\n        \"dtype\": \"number\",\n        \"std\": 342,\n        \"min\": 227,\n        \"max\": 1000,\n        \"num_unique_values\": 4,\n        \"samples\": [\n          408,\n          1000,\n          365\n        ],\n        \"semantic_type\": \"\",\n        \"description\": \"\"\n      }\n    }\n  ]\n}"
            }
          },
          "metadata": {},
          "execution_count": 20
        }
      ]
    },
    {
      "cell_type": "code",
      "source": [],
      "metadata": {
        "id": "sv4chgxQkwup"
      },
      "execution_count": null,
      "outputs": []
    },
    {
      "cell_type": "markdown",
      "source": [
        "# Actionable Insights and Conclusions\n",
        "\n",
        "* From the sample data, we observed that\n",
        "  * 50% of the people spend at least 6 hours on an average per week on the AZ Tunes App\n",
        "  * The average weekly app engagement time of AZ Tunes was 6.18 hours\n",
        "* There is enough statistical evidence (p-value of 0.0196 at 5% level of significance) to conclude that the average app engagement time of AZ Tunes is greater than the market average\n",
        "* The difference in proportions of subscribers across the 3 age groups is significant enough (p- value of 5.60 x 10^(-16) at 5% level of significance) to conclude that the age group 18-34 is most likely to subscribe\n",
        "  * AZ Tunes can focus more on designing the special offers for this age group to be used in the marketing campaign"
      ],
      "metadata": {
        "id": "10xSb6TAk39D"
      }
    },
    {
      "cell_type": "code",
      "source": [],
      "metadata": {
        "id": "P2Un0LJ3lOs_"
      },
      "execution_count": null,
      "outputs": []
    }
  ]
}